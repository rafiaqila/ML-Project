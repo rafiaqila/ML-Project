{
 "cells": [
  {
   "cell_type": "markdown",
   "id": "9236d6c1-4e53-40ca-9f76-04202b2ee38c",
   "metadata": {},
   "source": [
    "# **Seoul Bike Sharing Demand Prediction**"
   ]
  },
  {
   "cell_type": "markdown",
   "id": "90866307-9365-4fad-84f5-18d4c3847a1d",
   "metadata": {},
   "source": [
    "## **1. Introduction**"
   ]
  },
  {
   "cell_type": "markdown",
   "id": "382981df-105a-424f-a8a7-3649c4385cd7",
   "metadata": {},
   "source": [
    "Currently Rental bikes are introduced in many urban cities for the enhancement of mobility comfort. It is important to make the rental bike available and accessible to the public at the right time as it lessens the waiting time. Eventually, providing the city with a stable supply of rental bikes becomes a major concern. The crucial part is the prediction of bike count required at each hour for the stable supply of rental bikes. \n",
    "The dataset contains weather information (Temperature, Humidity, Windspeed, Visibility, Dewpoint, Solar radiation, Snowfall, Rainfall), the number of bikes rented per hour and date information. "
   ]
  },
  {
   "cell_type": "markdown",
   "id": "4b1afc18-6e7a-4a46-8cb0-51dfa8269d71",
   "metadata": {},
   "source": [
    "### **1.1 Data Description**"
   ]
  },
  {
   "cell_type": "markdown",
   "id": "12d92ebf-ebb3-4fed-a907-4e453fff57c0",
   "metadata": {},
   "source": [
    "| Variable Name            | Role    | Type       | Description                           | Units    | Missing Values |\n",
    "|--------------------------|---------|------------|---------------------------------------|----------|----------------|\n",
    "| **Date**                  | Feature | Date       | The date of the record                | -        | No             |\n",
    "| **Rented Bike Count**      | Target  | Integer    | The number of rented bikes            | -        | No             |\n",
    "| **Hour**                  | Feature | Integer    | Hour of the day                       | -        | No             |\n",
    "| **Temperature**           | Feature | Continuous | Temperature during the hour           | °C       | No             |\n",
    "| **Humidity**              | Feature | Integer    | Humidity as a percentage              | %        | No             |\n",
    "| **Wind Speed**            | Feature | Continuous | Wind speed                            | m/s      | No             |\n",
    "| **Visibility**            | Feature | Integer    | Visibility during the hour            | m        | No             |\n",
    "| **Dew Point Temperature** | Feature | Continuous | Dew point temperature                 | °C       | No             |\n",
    "| **Solar Radiation**       | Feature | Continuous | Solar radiation                       | MJ/m²    | No             |\n",
    "| **Rainfall**              | Feature | Integer    | Amount of rainfall                    | mm       | No             |\n",
    "| **Snowfall**              | Feature | Integer    | Amount of snowfall                    | cm       | No             |\n",
    "| **Seasons**               | Feature | Categorical| Season (Spring, Summer, Fall, Winter) | -        | No             |\n",
    "| **Holiday**               | Feature | Binary     | Whether the day is a holiday (1 or 0) | -        | No             |\n",
    "| **Functioning Day**       | Target  | Binary     | Whether the bike-sharing service was functioning (1 or 0) | - | No |\n",
    "\n",
    "Dataset Source: Seoul Bike Sharing Demand [Dataset]. (2020). UCI Machine Learning Repository. https://doi.org/10.24432/C5F62R.\n"
   ]
  },
  {
   "cell_type": "markdown",
   "id": "6aba3569-0832-4fd9-a27d-9d0b0e1adc9d",
   "metadata": {},
   "source": [
    "### **1.2 Objective**"
   ]
  },
  {
   "cell_type": "markdown",
   "id": "37190ada-76d9-4f9d-872d-caf156ef68dc",
   "metadata": {},
   "source": [
    "The primary objective is to develop a machine learning model that accurately predicts the Rented Bike Count based on various input features, such as temperature, humidity, wind speed, visibility, and temporal features like hour and season. The goal is to:\n",
    "\n",
    "- Understand the key factors influencing bike-sharing demand.\n",
    "- Evaluate and compare different machine learning models to find the one that provides the best predictions for bike rentals.\n",
    "- Use the trained model to predict future bike-sharing demand"
   ]
  },
  {
   "cell_type": "markdown",
   "id": "2cc91bcf-c1f7-4c40-b4e7-c3637680459f",
   "metadata": {},
   "source": [
    "### **1.3 Import Dependencies**"
   ]
  },
  {
   "cell_type": "code",
   "execution_count": 1,
   "id": "74f33170-caa5-473c-af48-cc069a2f3616",
   "metadata": {},
   "outputs": [],
   "source": [
    "import pandas as pd\n",
    "import numpy as np\n",
    "import matplotlib.pyplot as plt\n",
    "from sklearn.model_selection import train_test_split\n",
    "from imblearn.over_sampling import RandomOverSampler\n",
    "from sklearn.linear_model import LinearRegression\n",
    "from sklearn.metrics import r2_score\n",
    "import seaborn as sns\n",
    "import tensorflow as tf"
   ]
  },
  {
   "cell_type": "markdown",
   "id": "1281e3b0-9930-4346-bbba-813b5c9ea925",
   "metadata": {},
   "source": [
    "## **2. Data Preparation**"
   ]
  },
  {
   "cell_type": "code",
   "execution_count": 2,
   "id": "7e827935-cb9c-481c-8e6d-71bd0953c4d3",
   "metadata": {},
   "outputs": [
    {
     "data": {
      "text/html": [
       "<div>\n",
       "<style scoped>\n",
       "    .dataframe tbody tr th:only-of-type {\n",
       "        vertical-align: middle;\n",
       "    }\n",
       "\n",
       "    .dataframe tbody tr th {\n",
       "        vertical-align: top;\n",
       "    }\n",
       "\n",
       "    .dataframe thead th {\n",
       "        text-align: right;\n",
       "    }\n",
       "</style>\n",
       "<table border=\"1\" class=\"dataframe\">\n",
       "  <thead>\n",
       "    <tr style=\"text-align: right;\">\n",
       "      <th></th>\n",
       "      <th>Date</th>\n",
       "      <th>Rented Bike Count</th>\n",
       "      <th>Hour</th>\n",
       "      <th>Temperature(°C)</th>\n",
       "      <th>Humidity(%)</th>\n",
       "      <th>Wind speed (m/s)</th>\n",
       "      <th>Visibility (10m)</th>\n",
       "      <th>Dew point temperature(°C)</th>\n",
       "      <th>Solar Radiation (MJ/m2)</th>\n",
       "      <th>Rainfall(mm)</th>\n",
       "      <th>Snowfall (cm)</th>\n",
       "      <th>Seasons</th>\n",
       "      <th>Holiday</th>\n",
       "      <th>Functioning Day</th>\n",
       "    </tr>\n",
       "  </thead>\n",
       "  <tbody>\n",
       "    <tr>\n",
       "      <th>0</th>\n",
       "      <td>01/12/2017</td>\n",
       "      <td>254</td>\n",
       "      <td>0</td>\n",
       "      <td>-5.2</td>\n",
       "      <td>37</td>\n",
       "      <td>2.2</td>\n",
       "      <td>2000</td>\n",
       "      <td>-17.6</td>\n",
       "      <td>0.0</td>\n",
       "      <td>0.0</td>\n",
       "      <td>0.0</td>\n",
       "      <td>Winter</td>\n",
       "      <td>No Holiday</td>\n",
       "      <td>Yes</td>\n",
       "    </tr>\n",
       "    <tr>\n",
       "      <th>1</th>\n",
       "      <td>01/12/2017</td>\n",
       "      <td>204</td>\n",
       "      <td>1</td>\n",
       "      <td>-5.5</td>\n",
       "      <td>38</td>\n",
       "      <td>0.8</td>\n",
       "      <td>2000</td>\n",
       "      <td>-17.6</td>\n",
       "      <td>0.0</td>\n",
       "      <td>0.0</td>\n",
       "      <td>0.0</td>\n",
       "      <td>Winter</td>\n",
       "      <td>No Holiday</td>\n",
       "      <td>Yes</td>\n",
       "    </tr>\n",
       "    <tr>\n",
       "      <th>2</th>\n",
       "      <td>01/12/2017</td>\n",
       "      <td>173</td>\n",
       "      <td>2</td>\n",
       "      <td>-6.0</td>\n",
       "      <td>39</td>\n",
       "      <td>1.0</td>\n",
       "      <td>2000</td>\n",
       "      <td>-17.7</td>\n",
       "      <td>0.0</td>\n",
       "      <td>0.0</td>\n",
       "      <td>0.0</td>\n",
       "      <td>Winter</td>\n",
       "      <td>No Holiday</td>\n",
       "      <td>Yes</td>\n",
       "    </tr>\n",
       "    <tr>\n",
       "      <th>3</th>\n",
       "      <td>01/12/2017</td>\n",
       "      <td>107</td>\n",
       "      <td>3</td>\n",
       "      <td>-6.2</td>\n",
       "      <td>40</td>\n",
       "      <td>0.9</td>\n",
       "      <td>2000</td>\n",
       "      <td>-17.6</td>\n",
       "      <td>0.0</td>\n",
       "      <td>0.0</td>\n",
       "      <td>0.0</td>\n",
       "      <td>Winter</td>\n",
       "      <td>No Holiday</td>\n",
       "      <td>Yes</td>\n",
       "    </tr>\n",
       "    <tr>\n",
       "      <th>4</th>\n",
       "      <td>01/12/2017</td>\n",
       "      <td>78</td>\n",
       "      <td>4</td>\n",
       "      <td>-6.0</td>\n",
       "      <td>36</td>\n",
       "      <td>2.3</td>\n",
       "      <td>2000</td>\n",
       "      <td>-18.6</td>\n",
       "      <td>0.0</td>\n",
       "      <td>0.0</td>\n",
       "      <td>0.0</td>\n",
       "      <td>Winter</td>\n",
       "      <td>No Holiday</td>\n",
       "      <td>Yes</td>\n",
       "    </tr>\n",
       "  </tbody>\n",
       "</table>\n",
       "</div>"
      ],
      "text/plain": [
       "         Date  Rented Bike Count  Hour  Temperature(°C)  Humidity(%)  \\\n",
       "0  01/12/2017                254     0             -5.2           37   \n",
       "1  01/12/2017                204     1             -5.5           38   \n",
       "2  01/12/2017                173     2             -6.0           39   \n",
       "3  01/12/2017                107     3             -6.2           40   \n",
       "4  01/12/2017                 78     4             -6.0           36   \n",
       "\n",
       "   Wind speed (m/s)  Visibility (10m)  Dew point temperature(°C)  \\\n",
       "0               2.2              2000                      -17.6   \n",
       "1               0.8              2000                      -17.6   \n",
       "2               1.0              2000                      -17.7   \n",
       "3               0.9              2000                      -17.6   \n",
       "4               2.3              2000                      -18.6   \n",
       "\n",
       "   Solar Radiation (MJ/m2)  Rainfall(mm)  Snowfall (cm) Seasons     Holiday  \\\n",
       "0                      0.0           0.0            0.0  Winter  No Holiday   \n",
       "1                      0.0           0.0            0.0  Winter  No Holiday   \n",
       "2                      0.0           0.0            0.0  Winter  No Holiday   \n",
       "3                      0.0           0.0            0.0  Winter  No Holiday   \n",
       "4                      0.0           0.0            0.0  Winter  No Holiday   \n",
       "\n",
       "  Functioning Day  \n",
       "0             Yes  \n",
       "1             Yes  \n",
       "2             Yes  \n",
       "3             Yes  \n",
       "4             Yes  "
      ]
     },
     "execution_count": 2,
     "metadata": {},
     "output_type": "execute_result"
    }
   ],
   "source": [
    "# Name the columns\n",
    "cols = [\"bike_count\", \"hour\", \"temp\", \"humidity\", \"wind\", \"visibility\", \"dew_pt_temp\", \"radiation\", \"rain\", \"snow\", \"season\", \"functional\"]\n",
    "\n",
    "# Import the data\n",
    "df = pd.read_csv('/Users/rafihidayat/Desktop/python learning/ML for everyone/SeoulBikeData.csv', encoding='ISO-8859-1')\n",
    "df.head()"
   ]
  },
  {
   "cell_type": "code",
   "execution_count": 3,
   "id": "31d7d50d-7498-433b-9b14-0d54954a6da2",
   "metadata": {},
   "outputs": [],
   "source": [
    "# Drop columns that are irrelevant\n",
    "df = df.drop([\"Date\", \"Holiday\"], axis = 1)\n",
    "df.columns = cols"
   ]
  },
  {
   "cell_type": "code",
   "execution_count": 4,
   "id": "620a2d9c-09ae-4f7b-be40-d8c792a37481",
   "metadata": {},
   "outputs": [
    {
     "data": {
      "text/html": [
       "<div>\n",
       "<style scoped>\n",
       "    .dataframe tbody tr th:only-of-type {\n",
       "        vertical-align: middle;\n",
       "    }\n",
       "\n",
       "    .dataframe tbody tr th {\n",
       "        vertical-align: top;\n",
       "    }\n",
       "\n",
       "    .dataframe thead th {\n",
       "        text-align: right;\n",
       "    }\n",
       "</style>\n",
       "<table border=\"1\" class=\"dataframe\">\n",
       "  <thead>\n",
       "    <tr style=\"text-align: right;\">\n",
       "      <th></th>\n",
       "      <th>bike_count</th>\n",
       "      <th>hour</th>\n",
       "      <th>temp</th>\n",
       "      <th>humidity</th>\n",
       "      <th>wind</th>\n",
       "      <th>visibility</th>\n",
       "      <th>dew_pt_temp</th>\n",
       "      <th>radiation</th>\n",
       "      <th>rain</th>\n",
       "      <th>snow</th>\n",
       "      <th>season</th>\n",
       "      <th>functional</th>\n",
       "    </tr>\n",
       "  </thead>\n",
       "  <tbody>\n",
       "    <tr>\n",
       "      <th>0</th>\n",
       "      <td>254</td>\n",
       "      <td>0</td>\n",
       "      <td>-5.2</td>\n",
       "      <td>37</td>\n",
       "      <td>2.2</td>\n",
       "      <td>2000</td>\n",
       "      <td>-17.6</td>\n",
       "      <td>0.0</td>\n",
       "      <td>0.0</td>\n",
       "      <td>0.0</td>\n",
       "      <td>Winter</td>\n",
       "      <td>Yes</td>\n",
       "    </tr>\n",
       "    <tr>\n",
       "      <th>1</th>\n",
       "      <td>204</td>\n",
       "      <td>1</td>\n",
       "      <td>-5.5</td>\n",
       "      <td>38</td>\n",
       "      <td>0.8</td>\n",
       "      <td>2000</td>\n",
       "      <td>-17.6</td>\n",
       "      <td>0.0</td>\n",
       "      <td>0.0</td>\n",
       "      <td>0.0</td>\n",
       "      <td>Winter</td>\n",
       "      <td>Yes</td>\n",
       "    </tr>\n",
       "    <tr>\n",
       "      <th>2</th>\n",
       "      <td>173</td>\n",
       "      <td>2</td>\n",
       "      <td>-6.0</td>\n",
       "      <td>39</td>\n",
       "      <td>1.0</td>\n",
       "      <td>2000</td>\n",
       "      <td>-17.7</td>\n",
       "      <td>0.0</td>\n",
       "      <td>0.0</td>\n",
       "      <td>0.0</td>\n",
       "      <td>Winter</td>\n",
       "      <td>Yes</td>\n",
       "    </tr>\n",
       "    <tr>\n",
       "      <th>3</th>\n",
       "      <td>107</td>\n",
       "      <td>3</td>\n",
       "      <td>-6.2</td>\n",
       "      <td>40</td>\n",
       "      <td>0.9</td>\n",
       "      <td>2000</td>\n",
       "      <td>-17.6</td>\n",
       "      <td>0.0</td>\n",
       "      <td>0.0</td>\n",
       "      <td>0.0</td>\n",
       "      <td>Winter</td>\n",
       "      <td>Yes</td>\n",
       "    </tr>\n",
       "    <tr>\n",
       "      <th>4</th>\n",
       "      <td>78</td>\n",
       "      <td>4</td>\n",
       "      <td>-6.0</td>\n",
       "      <td>36</td>\n",
       "      <td>2.3</td>\n",
       "      <td>2000</td>\n",
       "      <td>-18.6</td>\n",
       "      <td>0.0</td>\n",
       "      <td>0.0</td>\n",
       "      <td>0.0</td>\n",
       "      <td>Winter</td>\n",
       "      <td>Yes</td>\n",
       "    </tr>\n",
       "  </tbody>\n",
       "</table>\n",
       "</div>"
      ],
      "text/plain": [
       "   bike_count  hour  temp  humidity  wind  visibility  dew_pt_temp  radiation  \\\n",
       "0         254     0  -5.2        37   2.2        2000        -17.6        0.0   \n",
       "1         204     1  -5.5        38   0.8        2000        -17.6        0.0   \n",
       "2         173     2  -6.0        39   1.0        2000        -17.7        0.0   \n",
       "3         107     3  -6.2        40   0.9        2000        -17.6        0.0   \n",
       "4          78     4  -6.0        36   2.3        2000        -18.6        0.0   \n",
       "\n",
       "   rain  snow  season functional  \n",
       "0   0.0   0.0  Winter        Yes  \n",
       "1   0.0   0.0  Winter        Yes  \n",
       "2   0.0   0.0  Winter        Yes  \n",
       "3   0.0   0.0  Winter        Yes  \n",
       "4   0.0   0.0  Winter        Yes  "
      ]
     },
     "execution_count": 4,
     "metadata": {},
     "output_type": "execute_result"
    }
   ],
   "source": [
    "df.head()"
   ]
  },
  {
   "cell_type": "code",
   "execution_count": 5,
   "id": "a7baa389-1417-420e-ba6e-9b2754b4a6e5",
   "metadata": {},
   "outputs": [
    {
     "data": {
      "text/html": [
       "<div>\n",
       "<style scoped>\n",
       "    .dataframe tbody tr th:only-of-type {\n",
       "        vertical-align: middle;\n",
       "    }\n",
       "\n",
       "    .dataframe tbody tr th {\n",
       "        vertical-align: top;\n",
       "    }\n",
       "\n",
       "    .dataframe thead th {\n",
       "        text-align: right;\n",
       "    }\n",
       "</style>\n",
       "<table border=\"1\" class=\"dataframe\">\n",
       "  <thead>\n",
       "    <tr style=\"text-align: right;\">\n",
       "      <th></th>\n",
       "      <th>bike_count</th>\n",
       "      <th>temp</th>\n",
       "      <th>humidity</th>\n",
       "      <th>wind</th>\n",
       "      <th>visibility</th>\n",
       "      <th>dew_pt_temp</th>\n",
       "      <th>radiation</th>\n",
       "      <th>rain</th>\n",
       "      <th>snow</th>\n",
       "      <th>season</th>\n",
       "      <th>functional</th>\n",
       "    </tr>\n",
       "  </thead>\n",
       "  <tbody>\n",
       "    <tr>\n",
       "      <th>8</th>\n",
       "      <td>930</td>\n",
       "      <td>-7.6</td>\n",
       "      <td>37</td>\n",
       "      <td>1.1</td>\n",
       "      <td>2000</td>\n",
       "      <td>-19.8</td>\n",
       "      <td>0.01</td>\n",
       "      <td>0.0</td>\n",
       "      <td>0.0</td>\n",
       "      <td>Winter</td>\n",
       "      <td>Yes</td>\n",
       "    </tr>\n",
       "    <tr>\n",
       "      <th>9</th>\n",
       "      <td>490</td>\n",
       "      <td>-6.5</td>\n",
       "      <td>27</td>\n",
       "      <td>0.5</td>\n",
       "      <td>1928</td>\n",
       "      <td>-22.4</td>\n",
       "      <td>0.23</td>\n",
       "      <td>0.0</td>\n",
       "      <td>0.0</td>\n",
       "      <td>Winter</td>\n",
       "      <td>Yes</td>\n",
       "    </tr>\n",
       "    <tr>\n",
       "      <th>10</th>\n",
       "      <td>339</td>\n",
       "      <td>-3.5</td>\n",
       "      <td>24</td>\n",
       "      <td>1.2</td>\n",
       "      <td>1996</td>\n",
       "      <td>-21.2</td>\n",
       "      <td>0.65</td>\n",
       "      <td>0.0</td>\n",
       "      <td>0.0</td>\n",
       "      <td>Winter</td>\n",
       "      <td>Yes</td>\n",
       "    </tr>\n",
       "    <tr>\n",
       "      <th>11</th>\n",
       "      <td>360</td>\n",
       "      <td>-0.5</td>\n",
       "      <td>21</td>\n",
       "      <td>1.3</td>\n",
       "      <td>1936</td>\n",
       "      <td>-20.2</td>\n",
       "      <td>0.94</td>\n",
       "      <td>0.0</td>\n",
       "      <td>0.0</td>\n",
       "      <td>Winter</td>\n",
       "      <td>Yes</td>\n",
       "    </tr>\n",
       "    <tr>\n",
       "      <th>12</th>\n",
       "      <td>449</td>\n",
       "      <td>1.7</td>\n",
       "      <td>23</td>\n",
       "      <td>1.4</td>\n",
       "      <td>2000</td>\n",
       "      <td>-17.2</td>\n",
       "      <td>1.11</td>\n",
       "      <td>0.0</td>\n",
       "      <td>0.0</td>\n",
       "      <td>Winter</td>\n",
       "      <td>Yes</td>\n",
       "    </tr>\n",
       "  </tbody>\n",
       "</table>\n",
       "</div>"
      ],
      "text/plain": [
       "    bike_count  temp  humidity  wind  visibility  dew_pt_temp  radiation  \\\n",
       "8          930  -7.6        37   1.1        2000        -19.8       0.01   \n",
       "9          490  -6.5        27   0.5        1928        -22.4       0.23   \n",
       "10         339  -3.5        24   1.2        1996        -21.2       0.65   \n",
       "11         360  -0.5        21   1.3        1936        -20.2       0.94   \n",
       "12         449   1.7        23   1.4        2000        -17.2       1.11   \n",
       "\n",
       "    rain  snow  season functional  \n",
       "8    0.0   0.0  Winter        Yes  \n",
       "9    0.0   0.0  Winter        Yes  \n",
       "10   0.0   0.0  Winter        Yes  \n",
       "11   0.0   0.0  Winter        Yes  \n",
       "12   0.0   0.0  Winter        Yes  "
      ]
     },
     "execution_count": 5,
     "metadata": {},
     "output_type": "execute_result"
    }
   ],
   "source": [
    "# Filter hour to only 8AM to 6PM\n",
    "df = df[(df['hour'] >= 8) & (df['hour'] <= 20)]\n",
    "\n",
    "# Drop hour column\n",
    "df = df.drop(['hour'], axis = 1)\n",
    "df.head()"
   ]
  },
  {
   "cell_type": "code",
   "execution_count": 6,
   "id": "0466f4b6-29f0-4e0e-b275-34fbfc833cb8",
   "metadata": {},
   "outputs": [
    {
     "data": {
      "text/html": [
       "<div>\n",
       "<style scoped>\n",
       "    .dataframe tbody tr th:only-of-type {\n",
       "        vertical-align: middle;\n",
       "    }\n",
       "\n",
       "    .dataframe tbody tr th {\n",
       "        vertical-align: top;\n",
       "    }\n",
       "\n",
       "    .dataframe thead th {\n",
       "        text-align: right;\n",
       "    }\n",
       "</style>\n",
       "<table border=\"1\" class=\"dataframe\">\n",
       "  <thead>\n",
       "    <tr style=\"text-align: right;\">\n",
       "      <th></th>\n",
       "      <th>bike_count</th>\n",
       "      <th>temp</th>\n",
       "      <th>humidity</th>\n",
       "      <th>wind</th>\n",
       "      <th>visibility</th>\n",
       "      <th>dew_pt_temp</th>\n",
       "      <th>radiation</th>\n",
       "      <th>rain</th>\n",
       "      <th>snow</th>\n",
       "      <th>functional</th>\n",
       "      <th>season_Autumn</th>\n",
       "      <th>season_Spring</th>\n",
       "      <th>season_Summer</th>\n",
       "      <th>season_Winter</th>\n",
       "    </tr>\n",
       "  </thead>\n",
       "  <tbody>\n",
       "    <tr>\n",
       "      <th>8</th>\n",
       "      <td>930</td>\n",
       "      <td>-7.6</td>\n",
       "      <td>37</td>\n",
       "      <td>1.1</td>\n",
       "      <td>2000</td>\n",
       "      <td>-19.8</td>\n",
       "      <td>0.01</td>\n",
       "      <td>0.0</td>\n",
       "      <td>0.0</td>\n",
       "      <td>Yes</td>\n",
       "      <td>False</td>\n",
       "      <td>False</td>\n",
       "      <td>False</td>\n",
       "      <td>True</td>\n",
       "    </tr>\n",
       "    <tr>\n",
       "      <th>9</th>\n",
       "      <td>490</td>\n",
       "      <td>-6.5</td>\n",
       "      <td>27</td>\n",
       "      <td>0.5</td>\n",
       "      <td>1928</td>\n",
       "      <td>-22.4</td>\n",
       "      <td>0.23</td>\n",
       "      <td>0.0</td>\n",
       "      <td>0.0</td>\n",
       "      <td>Yes</td>\n",
       "      <td>False</td>\n",
       "      <td>False</td>\n",
       "      <td>False</td>\n",
       "      <td>True</td>\n",
       "    </tr>\n",
       "    <tr>\n",
       "      <th>10</th>\n",
       "      <td>339</td>\n",
       "      <td>-3.5</td>\n",
       "      <td>24</td>\n",
       "      <td>1.2</td>\n",
       "      <td>1996</td>\n",
       "      <td>-21.2</td>\n",
       "      <td>0.65</td>\n",
       "      <td>0.0</td>\n",
       "      <td>0.0</td>\n",
       "      <td>Yes</td>\n",
       "      <td>False</td>\n",
       "      <td>False</td>\n",
       "      <td>False</td>\n",
       "      <td>True</td>\n",
       "    </tr>\n",
       "    <tr>\n",
       "      <th>11</th>\n",
       "      <td>360</td>\n",
       "      <td>-0.5</td>\n",
       "      <td>21</td>\n",
       "      <td>1.3</td>\n",
       "      <td>1936</td>\n",
       "      <td>-20.2</td>\n",
       "      <td>0.94</td>\n",
       "      <td>0.0</td>\n",
       "      <td>0.0</td>\n",
       "      <td>Yes</td>\n",
       "      <td>False</td>\n",
       "      <td>False</td>\n",
       "      <td>False</td>\n",
       "      <td>True</td>\n",
       "    </tr>\n",
       "    <tr>\n",
       "      <th>12</th>\n",
       "      <td>449</td>\n",
       "      <td>1.7</td>\n",
       "      <td>23</td>\n",
       "      <td>1.4</td>\n",
       "      <td>2000</td>\n",
       "      <td>-17.2</td>\n",
       "      <td>1.11</td>\n",
       "      <td>0.0</td>\n",
       "      <td>0.0</td>\n",
       "      <td>Yes</td>\n",
       "      <td>False</td>\n",
       "      <td>False</td>\n",
       "      <td>False</td>\n",
       "      <td>True</td>\n",
       "    </tr>\n",
       "  </tbody>\n",
       "</table>\n",
       "</div>"
      ],
      "text/plain": [
       "    bike_count  temp  humidity  wind  visibility  dew_pt_temp  radiation  \\\n",
       "8          930  -7.6        37   1.1        2000        -19.8       0.01   \n",
       "9          490  -6.5        27   0.5        1928        -22.4       0.23   \n",
       "10         339  -3.5        24   1.2        1996        -21.2       0.65   \n",
       "11         360  -0.5        21   1.3        1936        -20.2       0.94   \n",
       "12         449   1.7        23   1.4        2000        -17.2       1.11   \n",
       "\n",
       "    rain  snow functional  season_Autumn  season_Spring  season_Summer  \\\n",
       "8    0.0   0.0        Yes          False          False          False   \n",
       "9    0.0   0.0        Yes          False          False          False   \n",
       "10   0.0   0.0        Yes          False          False          False   \n",
       "11   0.0   0.0        Yes          False          False          False   \n",
       "12   0.0   0.0        Yes          False          False          False   \n",
       "\n",
       "    season_Winter  \n",
       "8            True  \n",
       "9            True  \n",
       "10           True  \n",
       "11           True  \n",
       "12           True  "
      ]
     },
     "execution_count": 6,
     "metadata": {},
     "output_type": "execute_result"
    }
   ],
   "source": [
    "# Perform one-hot encoding on the 'season' column\n",
    "df = pd.get_dummies(df, columns=[\"season\"], prefix=\"season\")\n",
    "df.head()"
   ]
  },
  {
   "cell_type": "code",
   "execution_count": 7,
   "id": "94d26daf-b795-45bb-a6ba-659d595f2d0e",
   "metadata": {},
   "outputs": [
    {
     "data": {
      "text/html": [
       "<div>\n",
       "<style scoped>\n",
       "    .dataframe tbody tr th:only-of-type {\n",
       "        vertical-align: middle;\n",
       "    }\n",
       "\n",
       "    .dataframe tbody tr th {\n",
       "        vertical-align: top;\n",
       "    }\n",
       "\n",
       "    .dataframe thead th {\n",
       "        text-align: right;\n",
       "    }\n",
       "</style>\n",
       "<table border=\"1\" class=\"dataframe\">\n",
       "  <thead>\n",
       "    <tr style=\"text-align: right;\">\n",
       "      <th></th>\n",
       "      <th>bike_count</th>\n",
       "      <th>temp</th>\n",
       "      <th>humidity</th>\n",
       "      <th>wind</th>\n",
       "      <th>visibility</th>\n",
       "      <th>dew_pt_temp</th>\n",
       "      <th>radiation</th>\n",
       "      <th>rain</th>\n",
       "      <th>snow</th>\n",
       "      <th>functional</th>\n",
       "      <th>season_Autumn</th>\n",
       "      <th>season_Spring</th>\n",
       "      <th>season_Summer</th>\n",
       "      <th>season_Winter</th>\n",
       "    </tr>\n",
       "  </thead>\n",
       "  <tbody>\n",
       "    <tr>\n",
       "      <th>8</th>\n",
       "      <td>930</td>\n",
       "      <td>-7.6</td>\n",
       "      <td>37</td>\n",
       "      <td>1.1</td>\n",
       "      <td>2000</td>\n",
       "      <td>-19.8</td>\n",
       "      <td>0.01</td>\n",
       "      <td>0.0</td>\n",
       "      <td>0.0</td>\n",
       "      <td>Yes</td>\n",
       "      <td>0</td>\n",
       "      <td>0</td>\n",
       "      <td>0</td>\n",
       "      <td>1</td>\n",
       "    </tr>\n",
       "    <tr>\n",
       "      <th>9</th>\n",
       "      <td>490</td>\n",
       "      <td>-6.5</td>\n",
       "      <td>27</td>\n",
       "      <td>0.5</td>\n",
       "      <td>1928</td>\n",
       "      <td>-22.4</td>\n",
       "      <td>0.23</td>\n",
       "      <td>0.0</td>\n",
       "      <td>0.0</td>\n",
       "      <td>Yes</td>\n",
       "      <td>0</td>\n",
       "      <td>0</td>\n",
       "      <td>0</td>\n",
       "      <td>1</td>\n",
       "    </tr>\n",
       "    <tr>\n",
       "      <th>10</th>\n",
       "      <td>339</td>\n",
       "      <td>-3.5</td>\n",
       "      <td>24</td>\n",
       "      <td>1.2</td>\n",
       "      <td>1996</td>\n",
       "      <td>-21.2</td>\n",
       "      <td>0.65</td>\n",
       "      <td>0.0</td>\n",
       "      <td>0.0</td>\n",
       "      <td>Yes</td>\n",
       "      <td>0</td>\n",
       "      <td>0</td>\n",
       "      <td>0</td>\n",
       "      <td>1</td>\n",
       "    </tr>\n",
       "    <tr>\n",
       "      <th>11</th>\n",
       "      <td>360</td>\n",
       "      <td>-0.5</td>\n",
       "      <td>21</td>\n",
       "      <td>1.3</td>\n",
       "      <td>1936</td>\n",
       "      <td>-20.2</td>\n",
       "      <td>0.94</td>\n",
       "      <td>0.0</td>\n",
       "      <td>0.0</td>\n",
       "      <td>Yes</td>\n",
       "      <td>0</td>\n",
       "      <td>0</td>\n",
       "      <td>0</td>\n",
       "      <td>1</td>\n",
       "    </tr>\n",
       "    <tr>\n",
       "      <th>12</th>\n",
       "      <td>449</td>\n",
       "      <td>1.7</td>\n",
       "      <td>23</td>\n",
       "      <td>1.4</td>\n",
       "      <td>2000</td>\n",
       "      <td>-17.2</td>\n",
       "      <td>1.11</td>\n",
       "      <td>0.0</td>\n",
       "      <td>0.0</td>\n",
       "      <td>Yes</td>\n",
       "      <td>0</td>\n",
       "      <td>0</td>\n",
       "      <td>0</td>\n",
       "      <td>1</td>\n",
       "    </tr>\n",
       "  </tbody>\n",
       "</table>\n",
       "</div>"
      ],
      "text/plain": [
       "    bike_count  temp  humidity  wind  visibility  dew_pt_temp  radiation  \\\n",
       "8          930  -7.6        37   1.1        2000        -19.8       0.01   \n",
       "9          490  -6.5        27   0.5        1928        -22.4       0.23   \n",
       "10         339  -3.5        24   1.2        1996        -21.2       0.65   \n",
       "11         360  -0.5        21   1.3        1936        -20.2       0.94   \n",
       "12         449   1.7        23   1.4        2000        -17.2       1.11   \n",
       "\n",
       "    rain  snow functional  season_Autumn  season_Spring  season_Summer  \\\n",
       "8    0.0   0.0        Yes              0              0              0   \n",
       "9    0.0   0.0        Yes              0              0              0   \n",
       "10   0.0   0.0        Yes              0              0              0   \n",
       "11   0.0   0.0        Yes              0              0              0   \n",
       "12   0.0   0.0        Yes              0              0              0   \n",
       "\n",
       "    season_Winter  \n",
       "8               1  \n",
       "9               1  \n",
       "10              1  \n",
       "11              1  \n",
       "12              1  "
      ]
     },
     "execution_count": 7,
     "metadata": {},
     "output_type": "execute_result"
    }
   ],
   "source": [
    "# Perform the replace operation on actual boolean values\n",
    "df.replace({False: 0, True: 1}, inplace=True)\n",
    "df.head()"
   ]
  },
  {
   "cell_type": "markdown",
   "id": "14a0552b-61c7-4236-a70c-03b75a9728ac",
   "metadata": {},
   "source": [
    "## **3. EDA**"
   ]
  },
  {
   "cell_type": "code",
   "execution_count": 8,
   "id": "fc57f77a-bb5e-4b2b-8158-1ea975c23d7c",
   "metadata": {},
   "outputs": [
    {
     "data": {
      "image/png": "[encoded data removed]",
      "text/plain": [
       "<Figure size 432x288 with 1 Axes>"
      ]
     },
     "metadata": {
      "needs_background": "light"
     },
     "output_type": "display_data"
    },
    {
     "data": {
      "image/png": "[encoded data removed]",
      "text/plain": [
       "<Figure size 432x288 with 1 Axes>"
      ]
     },
     "metadata": {
      "needs_background": "light"
     },
     "output_type": "display_data"
    },
    {
     "data": {
      "image/png": "[encoded data removed]",
      "text/plain": [
       "<Figure size 432x288 with 1 Axes>"
      ]
     },
     "metadata": {
      "needs_background": "light"
     },
     "output_type": "display_data"
    },
    {
     "data": {
      "image/png": "[encoded data removed]",
      "text/plain": [
       "<Figure size 432x288 with 1 Axes>"
      ]
     },
     "metadata": {
      "needs_background": "light"
     },
     "output_type": "display_data"
    },
    {
     "data": {
      "image/png": "[encoded data removed]",
      "text/plain": [
       "<Figure size 432x288 with 1 Axes>"
      ]
     },
     "metadata": {
      "needs_background": "light"
     },
     "output_type": "display_data"
    },
    {
     "data": {
      "image/png": "[encoded data removed]",
      "text/plain": [
       "<Figure size 432x288 with 1 Axes>"
      ]
     },
     "metadata": {
      "needs_background": "light"
     },
     "output_type": "display_data"
    },
    {
     "data": {
      "image/png": "[encoded data removed]",
      "text/plain": [
       "<Figure size 432x288 with 1 Axes>"
      ]
     },
     "metadata": {
      "needs_background": "light"
     },
     "output_type": "display_data"
    },
    {
     "data": {
      "image/png": "[encoded data removed]",
      "text/plain": [
       "<Figure size 432x288 with 1 Axes>"
      ]
     },
     "metadata": {
      "needs_background": "light"
     },
     "output_type": "display_data"
    },
    {
     "data": {
      "image/png": "[encoded data removed]",
      "text/plain": [
       "<Figure size 432x288 with 1 Axes>"
      ]
     },
     "metadata": {
      "needs_background": "light"
     },
     "output_type": "display_data"
    },
    {
     "data": {
      "image/png": "[encoded data removed]",
      "text/plain": [
       "<Figure size 432x288 with 1 Axes>"
      ]
     },
     "metadata": {
      "needs_background": "light"
     },
     "output_type": "display_data"
    },
    {
     "data": {
      "image/png": "[encoded data removed]",
      "text/plain": [
       "<Figure size 432x288 with 1 Axes>"
      ]
     },
     "metadata": {
      "needs_background": "light"
     },
     "output_type": "display_data"
    },
    {
     "data": {
      "image/png": "[encoded data removed]",
      "text/plain": [
       "<Figure size 432x288 with 1 Axes>"
      ]
     },
     "metadata": {
      "needs_background": "light"
     },
     "output_type": "display_data"
    },
    {
     "data": {
      "image/png": "[encoded data removed]",
      "text/plain": [
       "<Figure size 432x288 with 1 Axes>"
      ]
     },
     "metadata": {
      "needs_background": "light"
     },
     "output_type": "display_data"
    }
   ],
   "source": [
    "# Observe the relationship betweeen each feature and the label\n",
    "\n",
    "for label in df.columns[1:]:\n",
    "    plt.scatter(df[label], df[\"bike_count\"])\n",
    "    plt.title(label)\n",
    "    plt.show()"
   ]
  },
  {
   "cell_type": "markdown",
   "id": "66cac6e7-ef58-41ba-ab6a-75294e9eb9c9",
   "metadata": {},
   "source": [
    "`functional`, `wind`, `visibility`, `season_Autumn`, `season_Spring`, and `season_Summer`has no correlation to `bike_count`, so have to drop them"
   ]
  },
  {
   "cell_type": "code",
   "execution_count": 9,
   "id": "5742de8a-a73a-4d0f-b4cf-6e77ad51d622",
   "metadata": {},
   "outputs": [
    {
     "data": {
      "text/html": [
       "<div>\n",
       "<style scoped>\n",
       "    .dataframe tbody tr th:only-of-type {\n",
       "        vertical-align: middle;\n",
       "    }\n",
       "\n",
       "    .dataframe tbody tr th {\n",
       "        vertical-align: top;\n",
       "    }\n",
       "\n",
       "    .dataframe thead th {\n",
       "        text-align: right;\n",
       "    }\n",
       "</style>\n",
       "<table border=\"1\" class=\"dataframe\">\n",
       "  <thead>\n",
       "    <tr style=\"text-align: right;\">\n",
       "      <th></th>\n",
       "      <th>bike_count</th>\n",
       "      <th>temp</th>\n",
       "      <th>humidity</th>\n",
       "      <th>dew_pt_temp</th>\n",
       "      <th>radiation</th>\n",
       "      <th>rain</th>\n",
       "      <th>snow</th>\n",
       "      <th>season_Winter</th>\n",
       "    </tr>\n",
       "  </thead>\n",
       "  <tbody>\n",
       "    <tr>\n",
       "      <th>8</th>\n",
       "      <td>930</td>\n",
       "      <td>-7.6</td>\n",
       "      <td>37</td>\n",
       "      <td>-19.8</td>\n",
       "      <td>0.01</td>\n",
       "      <td>0.0</td>\n",
       "      <td>0.0</td>\n",
       "      <td>1</td>\n",
       "    </tr>\n",
       "    <tr>\n",
       "      <th>9</th>\n",
       "      <td>490</td>\n",
       "      <td>-6.5</td>\n",
       "      <td>27</td>\n",
       "      <td>-22.4</td>\n",
       "      <td>0.23</td>\n",
       "      <td>0.0</td>\n",
       "      <td>0.0</td>\n",
       "      <td>1</td>\n",
       "    </tr>\n",
       "    <tr>\n",
       "      <th>10</th>\n",
       "      <td>339</td>\n",
       "      <td>-3.5</td>\n",
       "      <td>24</td>\n",
       "      <td>-21.2</td>\n",
       "      <td>0.65</td>\n",
       "      <td>0.0</td>\n",
       "      <td>0.0</td>\n",
       "      <td>1</td>\n",
       "    </tr>\n",
       "    <tr>\n",
       "      <th>11</th>\n",
       "      <td>360</td>\n",
       "      <td>-0.5</td>\n",
       "      <td>21</td>\n",
       "      <td>-20.2</td>\n",
       "      <td>0.94</td>\n",
       "      <td>0.0</td>\n",
       "      <td>0.0</td>\n",
       "      <td>1</td>\n",
       "    </tr>\n",
       "    <tr>\n",
       "      <th>12</th>\n",
       "      <td>449</td>\n",
       "      <td>1.7</td>\n",
       "      <td>23</td>\n",
       "      <td>-17.2</td>\n",
       "      <td>1.11</td>\n",
       "      <td>0.0</td>\n",
       "      <td>0.0</td>\n",
       "      <td>1</td>\n",
       "    </tr>\n",
       "  </tbody>\n",
       "</table>\n",
       "</div>"
      ],
      "text/plain": [
       "    bike_count  temp  humidity  dew_pt_temp  radiation  rain  snow  \\\n",
       "8          930  -7.6        37        -19.8       0.01   0.0   0.0   \n",
       "9          490  -6.5        27        -22.4       0.23   0.0   0.0   \n",
       "10         339  -3.5        24        -21.2       0.65   0.0   0.0   \n",
       "11         360  -0.5        21        -20.2       0.94   0.0   0.0   \n",
       "12         449   1.7        23        -17.2       1.11   0.0   0.0   \n",
       "\n",
       "    season_Winter  \n",
       "8               1  \n",
       "9               1  \n",
       "10              1  \n",
       "11              1  \n",
       "12              1  "
      ]
     },
     "execution_count": 9,
     "metadata": {},
     "output_type": "execute_result"
    }
   ],
   "source": [
    "# Drop no correlation columns\n",
    "\n",
    "df = df.drop([\"functional\", \"wind\", \"visibility\", \"season_Autumn\", \"season_Spring\", \"season_Summer\"], axis =1)\n",
    "df.head()"
   ]
  },
  {
   "cell_type": "markdown",
   "id": "b877143e-b2ee-48e8-9592-9c6c4c16b209",
   "metadata": {},
   "source": [
    "## **4. Train-Test Dataset Split**"
   ]
  },
  {
   "cell_type": "code",
   "execution_count": 10,
   "id": "11155afb-4a44-497b-80df-8a5cd7db8d48",
   "metadata": {},
   "outputs": [],
   "source": [
    "# Separate features X and target y\n",
    "X = df.drop(columns=[\"bike_count\"], axis = 1)\n",
    "y = df[\"bike_count\"]"
   ]
  },
  {
   "cell_type": "code",
   "execution_count": 11,
   "id": "3983d807-dca6-478d-b0c5-e987ce011784",
   "metadata": {},
   "outputs": [],
   "source": [
    "# Split the dataset into training and testing sets\n",
    "X_train, X_test, y_train, y_test = train_test_split(X, y, test_size = 0.2, random_state = 10)"
   ]
  },
  {
   "cell_type": "markdown",
   "id": "b379a3b4-8efb-4978-a3fb-e6bcdb63df18",
   "metadata": {},
   "source": [
    "## **5. Modeling**"
   ]
  },
  {
   "cell_type": "markdown",
   "id": "f6e202c8-ad11-49f2-bf8c-2f4279241dce",
   "metadata": {},
   "source": [
    "### **5.1 Linear Regression**"
   ]
  },
  {
   "cell_type": "code",
   "execution_count": 12,
   "id": "30bb1a02-6a25-44d5-8cc2-7f19f6ff7d15",
   "metadata": {},
   "outputs": [],
   "source": [
    "# Initialize the Linear Regression model\n",
    "linreg_model = LinearRegression()\n",
    "\n",
    "# Train the Linear Regression model using the training data (X_train and y_train)\n",
    "linreg_model = linreg_model.fit(X_train, y_train)"
   ]
  },
  {
   "cell_type": "code",
   "execution_count": 13,
   "id": "2107a01c-69b4-47ec-89e8-d47276a9c026",
   "metadata": {},
   "outputs": [
    {
     "data": {
      "text/plain": [
       "0.42604530349395964"
      ]
     },
     "execution_count": 13,
     "metadata": {},
     "output_type": "execute_result"
    }
   ],
   "source": [
    "# Calculate the R-squared score on the test set (X_test, y_test)\n",
    "linreg_model.score(X_test, y_test)"
   ]
  },
  {
   "cell_type": "code",
   "execution_count": 14,
   "id": "f89a6324-83f3-4310-9866-f9141feba05f",
   "metadata": {},
   "outputs": [],
   "source": [
    "# Make predictions on the test data using the trained linear regression model\n",
    "y_pred = linreg_model.predict(X_test)"
   ]
  },
  {
   "cell_type": "code",
   "execution_count": 15,
   "id": "3f57af0d-6dd2-41ce-9e58-ef823b4f7f62",
   "metadata": {},
   "outputs": [
    {
     "data": {
      "text/html": [
       "<div>\n",
       "<style scoped>\n",
       "    .dataframe tbody tr th:only-of-type {\n",
       "        vertical-align: middle;\n",
       "    }\n",
       "\n",
       "    .dataframe tbody tr th {\n",
       "        vertical-align: top;\n",
       "    }\n",
       "\n",
       "    .dataframe thead th {\n",
       "        text-align: right;\n",
       "    }\n",
       "</style>\n",
       "<table border=\"1\" class=\"dataframe\">\n",
       "  <thead>\n",
       "    <tr style=\"text-align: right;\">\n",
       "      <th></th>\n",
       "      <th>Feature</th>\n",
       "      <th>Importance</th>\n",
       "    </tr>\n",
       "  </thead>\n",
       "  <tbody>\n",
       "    <tr>\n",
       "      <th>5</th>\n",
       "      <td>snow</td>\n",
       "      <td>39.357648</td>\n",
       "    </tr>\n",
       "    <tr>\n",
       "      <th>2</th>\n",
       "      <td>dew_pt_temp</td>\n",
       "      <td>38.208943</td>\n",
       "    </tr>\n",
       "    <tr>\n",
       "      <th>0</th>\n",
       "      <td>temp</td>\n",
       "      <td>-5.605452</td>\n",
       "    </tr>\n",
       "    <tr>\n",
       "      <th>1</th>\n",
       "      <td>humidity</td>\n",
       "      <td>-23.847658</td>\n",
       "    </tr>\n",
       "    <tr>\n",
       "      <th>4</th>\n",
       "      <td>rain</td>\n",
       "      <td>-62.524540</td>\n",
       "    </tr>\n",
       "    <tr>\n",
       "      <th>3</th>\n",
       "      <td>radiation</td>\n",
       "      <td>-272.501710</td>\n",
       "    </tr>\n",
       "    <tr>\n",
       "      <th>6</th>\n",
       "      <td>season_Winter</td>\n",
       "      <td>-495.350728</td>\n",
       "    </tr>\n",
       "  </tbody>\n",
       "</table>\n",
       "</div>"
      ],
      "text/plain": [
       "         Feature  Importance\n",
       "5           snow   39.357648\n",
       "2    dew_pt_temp   38.208943\n",
       "0           temp   -5.605452\n",
       "1       humidity  -23.847658\n",
       "4           rain  -62.524540\n",
       "3      radiation -272.501710\n",
       "6  season_Winter -495.350728"
      ]
     },
     "metadata": {},
     "output_type": "display_data"
    }
   ],
   "source": [
    "# Feature importance\n",
    "feature_importance = pd.DataFrame({\n",
    "    'Feature': X_train.columns,\n",
    "    'Importance': linreg_model.coef_\n",
    "}).sort_values(by='Importance', ascending=False)\n",
    "\n",
    "display(feature_importance)"
   ]
  },
  {
   "cell_type": "markdown",
   "id": "80b2c74b-3d0f-44af-8d9c-c1cd07f21e07",
   "metadata": {},
   "source": [
    "### **5.2 Linear Regression with Neural Network**"
   ]
  },
  {
   "cell_type": "code",
   "execution_count": 16,
   "id": "adcf1512-69b0-4c67-8edd-5193c7bce71b",
   "metadata": {},
   "outputs": [],
   "source": [
    "# Create function to plot training and validation loss\n",
    "def plot_loss(history):\n",
    "    plt.plot(history.history['loss'], label='loss')\n",
    "    plt.plot(history.history['val_loss'], label='val_loss')\n",
    "    plt.xlabel('Epoch') \n",
    "    plt.ylabel('MSE')\n",
    "    plt.grid(True)\n",
    "    plt.show()"
   ]
  },
  {
   "cell_type": "code",
   "execution_count": 17,
   "id": "f54f5d53-f9db-4a4e-b292-3673cac8d39c",
   "metadata": {},
   "outputs": [],
   "source": [
    "# Normalize the data\n",
    "input_shape = X_train.shape[1:]\n",
    "normalizer = tf.keras.layers.Normalization(axis = None)\n",
    "normalizer.adapt(X_train)"
   ]
  },
  {
   "cell_type": "code",
   "execution_count": 18,
   "id": "802d698f-dcd3-4c90-b649-29e786e9372f",
   "metadata": {},
   "outputs": [],
   "source": [
    "# Build the Neural Network model\n",
    "nn_model = tf.keras.Sequential([\n",
    "    tf.keras.Input(shape=input_shape),\n",
    "    normalizer,\n",
    "    tf.keras.layers.Dense(32, activation = 'relu'),\n",
    "    tf.keras.layers.Dense(32, activation = 'relu'),\n",
    "    tf.keras.layers.Dense(32, activation = 'relu'),\n",
    "    tf.keras.layers.Dense(1)\n",
    "])"
   ]
  },
  {
   "cell_type": "code",
   "execution_count": 19,
   "id": "2a3d373c-2e07-4182-a5e1-700a105b796a",
   "metadata": {},
   "outputs": [],
   "source": [
    "# Compile the model\n",
    "nn_model.compile(optimizer=tf.keras.optimizers.Adam(learning_rate = 0.001), loss='mean_squared_error')"
   ]
  },
  {
   "cell_type": "code",
   "execution_count": 20,
   "id": "1ebffd24-e3f2-4e8a-92c4-55127e1ee685",
   "metadata": {},
   "outputs": [],
   "source": [
    "# Train the model\n",
    "history = nn_model.fit(X_train, y_train, epochs=100, validation_split=0.2, verbose=0)"
   ]
  },
  {
   "cell_type": "code",
   "execution_count": 21,
   "id": "b6bd1f1b-2f13-42dc-af50-b95bcf6e08e4",
   "metadata": {},
   "outputs": [
    {
     "data": {
      "image/png": "[encoded data removed]",
      "text/plain": [
       "<Figure size 432x288 with 1 Axes>"
      ]
     },
     "metadata": {
      "needs_background": "light"
     },
     "output_type": "display_data"
    }
   ],
   "source": [
    "# Plot the training and validation loss over epochs\n",
    "plot_loss(history)"
   ]
  },
  {
   "cell_type": "code",
   "execution_count": 22,
   "id": "cc6811be-61a8-4a3a-8a29-fe26363c8caa",
   "metadata": {},
   "outputs": [
    {
     "name": "stdout",
     "output_type": "stream",
     "text": [
      "30/30 [==============================] - 0s 2ms/step\n"
     ]
    }
   ],
   "source": [
    "# Predict values using the trained Neural Network model\n",
    "y_pred = nn_model.predict(X_test)"
   ]
  },
  {
   "cell_type": "code",
   "execution_count": 27,
   "id": "a341848c-c378-4656-a722-bee819b89e42",
   "metadata": {},
   "outputs": [
    {
     "name": "stdout",
     "output_type": "stream",
     "text": [
      "30/30 [==============================] - 0s 2ms/step\n",
      "30/30 [==============================] - 0s 2ms/step\n",
      "30/30 [==============================] - 0s 2ms/step\n",
      "30/30 [==============================] - 0s 3ms/step\n",
      "30/30 [==============================] - 0s 3ms/step\n",
      "30/30 [==============================] - 0s 2ms/step\n",
      "30/30 [==============================] - 0s 2ms/step\n",
      "30/30 [==============================] - 0s 2ms/step\n",
      "         Feature     Importance\n",
      "2    dew_pt_temp  271146.762149\n",
      "1       humidity  208388.857980\n",
      "0           temp   95373.580795\n",
      "3      radiation   79008.036780\n",
      "4           rain    6429.001085\n",
      "6  season_Winter     781.771395\n",
      "5           snow     -11.265066\n"
     ]
    }
   ],
   "source": [
    "from sklearn.metrics import mean_squared_error\n",
    "\n",
    "def permuted_feature_importance(model, X_test, y_test):\n",
    "    # Ensure X_test is a NumPy array for easy slicing\n",
    "    X_test_array = X_test.to_numpy() if hasattr(X_test, 'to_numpy') else np.array(X_test)\n",
    "    \n",
    "    baseline = mean_squared_error(y_test, model.predict(X_test))\n",
    "    importances = []\n",
    "    \n",
    "    for i in range(X_test_array.shape[1]):\n",
    "        X_test_permuted = X_test_array.copy()\n",
    "        np.random.shuffle(X_test_permuted[:, i])  # Shuffle one feature\n",
    "        permuted_mse = mean_squared_error(y_test, model.predict(X_test_permuted))\n",
    "        importance = permuted_mse - baseline\n",
    "        importances.append(importance)\n",
    "    \n",
    "    return np.array(importances)\n",
    "\n",
    "# Now call the function\n",
    "importances = permuted_feature_importance(nn_model, X_test, y_test)\n",
    "\n",
    "# Create a DataFrame to associate importances with feature names\n",
    "feature_importances = pd.DataFrame({\n",
    "    'Feature': X_test.columns,\n",
    "    'Importance': importances\n",
    "})\n",
    "\n",
    "# Sort the features by importance\n",
    "feature_importances = feature_importances.sort_values(by='Importance', ascending=False)\n",
    "\n",
    "# Display the feature importances\n",
    "print(feature_importances)"
   ]
  },
  {
   "cell_type": "markdown",
   "id": "48e722f1-32f2-4d4e-9a8a-b65ef55a9537",
   "metadata": {},
   "source": [
    "### **5.3 Model Comparison**"
   ]
  },
  {
   "cell_type": "code",
   "execution_count": 28,
   "id": "54a530fb-75d6-41f1-8466-d4905cca6f1c",
   "metadata": {},
   "outputs": [
    {
     "name": "stdout",
     "output_type": "stream",
     "text": [
      "30/30 [==============================] - 0s 1ms/step\n"
     ]
    }
   ],
   "source": [
    "# Differentiate both model y_pred\n",
    "y_pred_lr = linreg_model.predict(X_test)\n",
    "y_pred_nn = nn_model.predict(X_test).reshape(-1)"
   ]
  },
  {
   "cell_type": "code",
   "execution_count": 29,
   "id": "f0fd1272-6c74-492a-9c7a-e13502acf28d",
   "metadata": {},
   "outputs": [],
   "source": [
    "# Define a function to calculate MSE\n",
    "def MSE(y_pred, y_real):\n",
    "    return (np.square(y_pred - y_real)).mean()"
   ]
  },
  {
   "cell_type": "code",
   "execution_count": 30,
   "id": "ba62b4de-9048-42b1-ba48-f108acf012c8",
   "metadata": {},
   "outputs": [
    {
     "data": {
      "text/plain": [
       "270723.0422521261"
      ]
     },
     "execution_count": 30,
     "metadata": {},
     "output_type": "execute_result"
    }
   ],
   "source": [
    "# MSE for LR\n",
    "MSE(y_pred_lr, y_test)"
   ]
  },
  {
   "cell_type": "code",
   "execution_count": 31,
   "id": "b2c4ed1d-6e9a-4c7a-a580-e4341ca0dc2e",
   "metadata": {},
   "outputs": [
    {
     "data": {
      "text/plain": [
       "249804.13712915158"
      ]
     },
     "execution_count": 31,
     "metadata": {},
     "output_type": "execute_result"
    }
   ],
   "source": [
    "# MSE for Neural Network\n",
    "MSE(y_pred_nn, y_test)"
   ]
  },
  {
   "cell_type": "code",
   "execution_count": 32,
   "id": "c86a2e0d-f287-48a0-b65c-cd6413133bff",
   "metadata": {},
   "outputs": [
    {
     "data": {
      "image/png": "[encoded data removed]",
      "text/plain": [
       "<Figure size 432x288 with 1 Axes>"
      ]
     },
     "metadata": {
      "needs_background": "light"
     },
     "output_type": "display_data"
    }
   ],
   "source": [
    "# Visualize the predictions of both models\n",
    "ax = plt.axes(aspect = \"equal\")\n",
    "plt.scatter(y_test, y_pred_lr, label = \"Linear Regression Predictions\")\n",
    "plt.scatter(y_test, y_pred_nn, label = \"Neural Network Predictions\")\n",
    "plt.xlabel(\"True Values\")\n",
    "plt.ylabel(\"Predictions\")\n",
    "lims = [0, 1800]\n",
    "plt.xlim(lims)\n",
    "plt.ylim(lims)\n",
    "plt.legend()\n",
    "# Plot a diagonal line (y=x)\n",
    "_ = plt.plot(lims, lims, c = \"red\")"
   ]
  },
  {
   "cell_type": "markdown",
   "id": "7a651dde-9ebf-488f-b34d-e43b4abeb991",
   "metadata": {},
   "source": [
    "## **6. Result**"
   ]
  },
  {
   "cell_type": "markdown",
   "id": "7369b30f-8e9a-4814-a2c5-7667db19d388",
   "metadata": {},
   "source": [
    "**Model Performance**\n",
    "Neural Network Model: The neural network model was trained with 5 layers, each containing 32 neurons using the ReLU activation function. The Adam optimizer was used with a learning rate of 0.001, and the loss was measured using mean squared error (MSE).\n",
    "Training and Validation Loss: Throughout the training process, the loss values for both the training and validation sets were monitored. The plot of loss against epochs demonstrates a consistent reduction in loss, indicating effective training without significant overfitting.\n",
    "\n",
    "\n",
    "**Mean Squared Error (MSE)**\n",
    "The performance of the neural network was evaluated using the mean squared error (MSE) metric. The calculated MSE for the test set was as follows:\n",
    "Linear Regression MSE: 270723.0422521261\n",
    "Neural Network MSE: 231214.23409492814\n",
    "Based on the results, the neural network outperformed the linear regression model, achieving a lower MSE on the test set."
   ]
  },
  {
   "cell_type": "code",
   "execution_count": 33,
   "id": "f9668e26-0429-4eb4-b209-6863bee67969",
   "metadata": {},
   "outputs": [
    {
     "data": {
      "text/html": [
       "<div>\n",
       "<style scoped>\n",
       "    .dataframe tbody tr th:only-of-type {\n",
       "        vertical-align: middle;\n",
       "    }\n",
       "\n",
       "    .dataframe tbody tr th {\n",
       "        vertical-align: top;\n",
       "    }\n",
       "\n",
       "    .dataframe thead th {\n",
       "        text-align: right;\n",
       "    }\n",
       "</style>\n",
       "<table border=\"1\" class=\"dataframe\">\n",
       "  <thead>\n",
       "    <tr style=\"text-align: right;\">\n",
       "      <th></th>\n",
       "      <th>Model</th>\n",
       "      <th>MSE</th>\n",
       "      <th>R² Score</th>\n",
       "    </tr>\n",
       "  </thead>\n",
       "  <tbody>\n",
       "    <tr>\n",
       "      <th>0</th>\n",
       "      <td>Linear Regression</td>\n",
       "      <td>270723.042252</td>\n",
       "      <td>0.426045</td>\n",
       "    </tr>\n",
       "    <tr>\n",
       "      <th>1</th>\n",
       "      <td>Neural Network</td>\n",
       "      <td>249804.137129</td>\n",
       "      <td>0.470395</td>\n",
       "    </tr>\n",
       "  </tbody>\n",
       "</table>\n",
       "</div>"
      ],
      "text/plain": [
       "               Model            MSE  R² Score\n",
       "0  Linear Regression  270723.042252  0.426045\n",
       "1     Neural Network  249804.137129  0.470395"
      ]
     },
     "metadata": {},
     "output_type": "display_data"
    }
   ],
   "source": [
    "results = {\n",
    "    'Model': ['Linear Regression', 'Neural Network'],\n",
    "    'MSE': [MSE(y_pred_lr, y_test), MSE(y_pred_nn, y_test)],\n",
    "    'R² Score': [linreg_model.score(X_test, y_test), r2_score(y_test, y_pred_nn)]\n",
    "}\n",
    "\n",
    "df_results = pd.DataFrame(results)\n",
    "display(df_results)"
   ]
  },
  {
   "cell_type": "markdown",
   "id": "1241ead9-9c25-4317-8008-4dc580990f97",
   "metadata": {},
   "source": [
    "## **Conclusion**"
   ]
  },
  {
   "cell_type": "markdown",
   "id": "fe3553e5-479d-454d-b935-d97d588a64f1",
   "metadata": {},
   "source": [
    "The neural network model demonstrated better predictive performance compared to the linear regression model in this particular task of bike-sharing demand prediction. The use of multiple dense layers allowed the model to capture non-linearities in the data that the linear regression model missed. Given the complexity of the problem, where demand for bike sharing is likely influenced by a variety of factors such as weather, time, and seasonality, the neural network model is a more appropriate tool for this task than simpler linear models."
   ]
  }
 ],
 "metadata": {
  "kernelspec": {
   "display_name": "Python 3",
   "language": "python",
   "name": "python3"
  },
  "language_info": {
   "codemirror_mode": {
    "name": "ipython",
    "version": 3
   },
   "file_extension": ".py",
   "mimetype": "text/x-python",
   "name": "python",
   "nbconvert_exporter": "python",
   "pygments_lexer": "ipython3",
   "version": "3.8.19"
  }
 },
 "nbformat": 4,
 "nbformat_minor": 5
}
